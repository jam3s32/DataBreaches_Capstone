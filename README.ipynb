{
 "cells": [
  {
   "cell_type": "markdown",
   "metadata": {},
   "source": [
    "\n",
    "## Table of Contents ##\n",
    "1. [Installations](#Installations)\n",
    "2. [Motivations](#Motivations)\n",
    "3. [File Desriptions](#File_Desc)\n",
    "4. [Licensing and Acknowledgements](#Licensing)\n",
    "5. [Results](#Results)\n",
    "\n",
    "## [Installations](#Installations) ##\n",
    "\n",
    "This project was created and run using Python version 3.0.\n",
    "\n",
    "Plugins and imports used were: \n",
    "Pandas, Seaborn, Matplotlib, scikitlearn, numpy, nltk, WordCloud, PIL\n",
    "\n",
    "## [Motivations](#Motivations) ##\n",
    "\n",
    "I have a keen interest in understanding how data breaches occur as I have always enjoyed organisational security. I wanted to understand and analyse what the constant threats were to an organisation and the language used to depict real life threats. For example, cards, fraud, skimming. \n",
    "\n",
    "I then decided to see if I could use Natural Language processing techniques along with Machine Learning to categorise large fields of text into a certain type of data breach. For example, can I scrape a dataset or journal document off the web and deploy it as an unseen story through the model to categorise the type of breach that occured. \n",
    "\n",
    "\n",
    "## [File Desriptions](#File_Desc)\n",
    "\n",
    "Files: \n",
    "- .Pynb File containing research and findings\n",
    "- readme document\n",
    "- Hackerman.jpg file\n",
    "- CSV dataset\n",
    "\n",
    "### [Licensing and Acknowledgements](#Licensing)\n",
    "\n",
    "I would like to thank Udacity for their support for this project. It has beena long hard journey of study to get to the final capstone.  \n",
    "\n",
    "I would like to acknowledge the following for their licensing and open data: \n",
    "1. Information is beautiful: https://informationisbeautiful.net/data/\n",
    "2. Worlds Data Breaches: http://bit.ly/bigdatabreaches\n",
    "\n",
    "### [Results](#Results)\n",
    "\n",
    "Results and findings can be found in the github .ipynb file. \n"
   ]
  },
  {
   "cell_type": "code",
   "execution_count": null,
   "metadata": {},
   "outputs": [],
   "source": []
  }
 ],
 "metadata": {
  "kernelspec": {
   "display_name": "Python 2",
   "language": "python",
   "name": "python2"
  },
  "language_info": {
   "codemirror_mode": {
    "name": "ipython",
    "version": 2
   },
   "file_extension": ".py",
   "mimetype": "text/x-python",
   "name": "python",
   "nbconvert_exporter": "python",
   "pygments_lexer": "ipython2",
   "version": "2.7.15"
  }
 },
 "nbformat": 4,
 "nbformat_minor": 2
}
